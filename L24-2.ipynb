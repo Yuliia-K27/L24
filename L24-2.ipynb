{
  "metadata": {
    "language_info": {
      "codemirror_mode": {
        "name": "python",
        "version": 3
      },
      "file_extension": ".py",
      "mimetype": "text/x-python",
      "name": "python",
      "nbconvert_exporter": "python",
      "pygments_lexer": "ipython3",
      "version": "3.8"
    },
    "kernelspec": {
      "name": "python",
      "display_name": "Python (Pyodide)",
      "language": "python"
    }
  },
  "nbformat_minor": 4,
  "nbformat": 4,
  "cells": [
    {
      "cell_type": "code",
      "source": "Порівняємо середнього значення прибутку та стандартного відхилення кожного набору товарів.\nУ випадку якщо середнє значення прибутку одного з наборів товарів значно вище за інший, а стандартне відхилення менше, значить ризик випуску та реалізації цього набору товарів менший.",
      "metadata": {},
      "execution_count": null,
      "outputs": []
    },
    {
      "cell_type": "code",
      "source": "",
      "metadata": {},
      "execution_count": null,
      "outputs": []
    },
    {
      "cell_type": "code",
      "source": "import pandas as pd\n\ndata = {'X': [1000, 1500, 2000],\n        'Y': [1000, 1500, 1750],\n        'X_profit': [0.5, 0.3, 0.2],\n        'Y_profit': [0.4, 0.4, 0.2]}\n\ndf = pd.DataFrame(data)\n\n#обчислити середнє значення прибутку та стандартне відхилення для кожного набору товарів:\nx_mean = df['X_profit'].mean()\ny_mean = df['Y_profit'].mean()\n\nx_std = df['X_profit'].std()\ny_std = df['Y_profit'].std()\n\n#порівняємо середнє значення прибутку та стандартного відхилення для кожного набору товарів\nif x_mean > y_mean and x_std < y_std:\n    print(\"Рекомендовано випустити та реалізувати набір товарів X\")\nelif y_mean > x_mean and y_std < x_std:\n    print(\"Рекомендовано випустити та реалізувати набір товарів Y\")\nelse:\n    print(\"Ризик випуску та реалізації обох наборів товарів майже рівний. Рекомендовано ретельніше проаналізувати ринок та зробити відповідне рішення.\")",
      "metadata": {
        "trusted": true
      },
      "execution_count": 1,
      "outputs": [
        {
          "name": "stdout",
          "text": "Ризик випуску та реалізації обох наборів товарів майже рівний. Рекомендовано ретельніше проаналізувати ринок та зробити відповідне рішення.\n",
          "output_type": "stream"
        }
      ]
    }
  ]
}